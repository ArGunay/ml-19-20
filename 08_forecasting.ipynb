{
  "nbformat": 4,
  "nbformat_minor": 0,
  "metadata": {
    "colab": {
      "name": "08_Forecasting.ipynb",
      "provenance": [],
      "collapsed_sections": [],
      "authorship_tag": "ABX9TyO7Rb08/xl0nAR3WlC3SzEn",
      "include_colab_link": true
    },
    "kernelspec": {
      "name": "python3",
      "display_name": "Python 3"
    }
  },
  "cells": [
    {
      "cell_type": "markdown",
      "metadata": {
        "id": "view-in-github",
        "colab_type": "text"
      },
      "source": [
        "<a href=\"https://colab.research.google.com/github/andreacini/ml-19-20/blob/master/08_forecasting.ipynb\" target=\"_parent\"><img src=\"https://colab.research.google.com/assets/colab-badge.svg\" alt=\"Open In Colab\"/></a>"
      ]
    },
    {
      "cell_type": "markdown",
      "metadata": {
        "id": "7_JbbGbKA-0s",
        "colab_type": "text"
      },
      "source": [
        "\n",
        "# Machine Learning\n",
        "\n",
        "Prof. Cesare Alippi  \n",
        "Andrea Cini ([`andrea.cini@usi.ch`](mailto:andrea.cini@usi.ch) )    \n",
        "Daniele Zambon ([`daniele.zambon@usi.ch`](mailto:daniele.zambon@usi.ch)  )\n",
        "\n",
        "---\n",
        "# Lab 08: Forecasting\n"
      ]
    },
    {
      "cell_type": "markdown",
      "metadata": {
        "id": "vOKpKrBLq79U",
        "colab_type": "text"
      },
      "source": [
        "## A simple problem\n",
        "\n",
        "$$x(t) = \\sin(\\omega \\,t) + \\eta, \\qquad \\eta\\sim N(0,\\sigma^2)$$"
      ]
    },
    {
      "cell_type": "code",
      "metadata": {
        "id": "jqepj7EelDdS",
        "colab_type": "code",
        "colab": {}
      },
      "source": [
        "import numpy as np\n",
        "import matplotlib.pyplot as plt\n",
        "\n",
        "omega = 30\n",
        "t = np.linspace(0, 2 * np.pi, 3000)\n",
        "x = np.sin(omega * t)\n",
        "\n",
        "print(\"x\", x.shape)\n",
        "plt.hist(x, density=True);"
      ],
      "execution_count": 0,
      "outputs": []
    },
    {
      "cell_type": "markdown",
      "metadata": {
        "id": "2Uy1pIO651fr",
        "colab_type": "text"
      },
      "source": [
        "Time matters!"
      ]
    },
    {
      "cell_type": "code",
      "metadata": {
        "id": "MNhUFyuVrS6Q",
        "colab_type": "code",
        "colab": {}
      },
      "source": [
        "plt.figure(figsize=(12, 5))\n",
        "plt.plot(x, '.')"
      ],
      "execution_count": 0,
      "outputs": []
    },
    {
      "cell_type": "markdown",
      "metadata": {
        "id": "wFNM5ofZ5QNQ",
        "colab_type": "text"
      },
      "source": [
        "### Let's divide data into windows\n",
        "\n",
        "```\n",
        "            historical data                   | future observations\n",
        "--------------------------------------------------------------------\n",
        "x(1) x(2) ... x(t-p) x(t-p+1) ... x(t-1) x(t) | x(t+1)  x(t+2) ...\n",
        "                    \\________________________/| \\____/\n",
        "                       time window            | value to \n",
        "                                              | be predicted\n",
        "```"
      ]
    },
    {
      "cell_type": "code",
      "metadata": {
        "id": "c7CmFQr1rzEg",
        "colab_type": "code",
        "colab": {}
      },
      "source": [
        "# Time windows\n",
        "def get_time_windows(sequence, window_size, train_size):\n",
        "    time = np.arange(sequence.shape[0])\n",
        "    xseq = []\n",
        "    yseq = []\n",
        "    for t in time[:-window_size]:\n",
        "        xseq.append(sequence[t:t+window_size])\n",
        "        yseq.append(sequence[t+window_size])\n",
        "    xseq = np.array(xseq)\n",
        "    yseq = np.array(yseq)\n",
        "    #train-test split\n",
        "    t = int(xseq.shape[0] * train_size)\n",
        "    return xseq[:t], xseq[t:], yseq[:t], yseq[t:]\n"
      ],
      "execution_count": 0,
      "outputs": []
    },
    {
      "cell_type": "code",
      "metadata": {
        "id": "MBK7me3t0xWi",
        "colab_type": "code",
        "colab": {}
      },
      "source": [
        "# Prepare the data\n",
        "p= 5\n",
        "\n",
        "x_train, x_test, y_train, y_test = get_time_windows(sequence=x, window_size=p, train_size=0.7)\n",
        "print(\"training data\", x_train.shape, y_train.shape)\n",
        "print(\"test data\", x_test.shape, y_test.shape)"
      ],
      "execution_count": 0,
      "outputs": []
    },
    {
      "cell_type": "code",
      "metadata": {
        "id": "EvwZ_UHLsk5S",
        "colab_type": "code",
        "colab": {}
      },
      "source": [
        "from tensorflow.keras.models import Sequential\n",
        "from tensorflow.keras.layers import Dense\n",
        "\n",
        "# Build a model \n",
        "def get_model(win_size):\n",
        "    model = Sequential()\n",
        "    num_neurons = win_size*2\n",
        "    model.add(Dense(num_neurons, input_shape=(win_size,), activation=\"tanh\"))\n",
        "    model.add(Dense(1, activation=\"linear\"))\n",
        "\n",
        "    model.compile(optimizer=\"adam\", loss=\"mse\")\n",
        "    return model"
      ],
      "execution_count": 0,
      "outputs": []
    },
    {
      "cell_type": "code",
      "metadata": {
        "id": "aqq8ZtvLtKL1",
        "colab_type": "code",
        "colab": {}
      },
      "source": [
        "p= 5\n",
        "\n",
        "# Prepare the data\n",
        "x_train, x_test, y_train, y_test = get_time_windows(sequence=x, window_size=p, train_size=0.7)\n",
        "\n",
        "# Train a model\n",
        "model = get_model(p)\n",
        "model.fit(x_train, y_train, epochs=100)"
      ],
      "execution_count": 0,
      "outputs": []
    },
    {
      "cell_type": "code",
      "metadata": {
        "id": "kEFtODpIuXor",
        "colab_type": "code",
        "colab": {}
      },
      "source": [
        "# Predictions\n",
        "y_pred = model.predict(x_test)\n",
        "\n",
        "plt.figure(figsize=(12, 5))\n",
        "plt.plot(np.arange(y_test.shape[0]), y_test, '.', label=\"ground truth\")\n",
        "plt.plot(np.arange(y_test.shape[0]), y_pred, '.', label=\"predicted\")\n",
        "plt.legend()"
      ],
      "execution_count": 0,
      "outputs": []
    },
    {
      "cell_type": "markdown",
      "metadata": {
        "id": "n499rYGT61rm",
        "colab_type": "text"
      },
      "source": [
        ""
      ]
    },
    {
      "cell_type": "code",
      "metadata": {
        "id": "IRzxDWsgusvt",
        "colab_type": "code",
        "colab": {}
      },
      "source": [
        "# Predict on our prediction\n",
        "def predict_rec(n, model, x_init):\n",
        "    p = x_init.shape[0]\n",
        "\n",
        "    y_new = np.zeros(p+n)\n",
        "    y_new[:p] = x_init.copy()\n",
        "\n",
        "    for j in range(n):\n",
        "        y_tmp = model.predict(y_new[j:j+p][None, ...])\n",
        "        y_new[j+p] = y_tmp[-1,0]\n",
        "    return y_new[p:]"
      ],
      "execution_count": 0,
      "outputs": []
    },
    {
      "cell_type": "code",
      "metadata": {
        "id": "DO3CeC-D6zyv",
        "colab_type": "code",
        "colab": {}
      },
      "source": [
        "# one-step prediction\n",
        "y_pred = model.predict(x_test)\n",
        "\n",
        "# one-step prediction\n",
        "n_last = 250\n",
        "y_new = predict_rec(n=n_last, model=model, x_init=x_test[-n_last-1])\n",
        "\n",
        "plt.figure(figsize=(12, 5))\n",
        "plt.plot(np.arange(y_test.shape[0]), y_test, '.', label=\"ground truth\")\n",
        "plt.plot(np.arange(y_test.shape[0]), y_pred, '.', label=\"predicted\")\n",
        "plt.plot(np.arange(y_test.shape[0]-n_last, y_test.shape[0]), y_new, '.', label=\"new\")\n",
        "plt.legend()"
      ],
      "execution_count": 0,
      "outputs": []
    },
    {
      "cell_type": "markdown",
      "metadata": {
        "id": "nBoB1Kp398Tb",
        "colab_type": "text"
      },
      "source": [
        "### A slightly more complex problem"
      ]
    },
    {
      "cell_type": "code",
      "metadata": {
        "id": "uTZhhN_vz7iS",
        "colab_type": "code",
        "colab": {}
      },
      "source": [
        "t = np.linspace(0, 2 * np.pi, 2000)\n",
        "x = np.sin(omega * t)*np.sin(1.74*omega * t)  + np.random.normal(loc=0, scale=.2, size=t.shape)\n",
        "\n",
        "plt.figure(figsize=(12, 5))\n",
        "plt.plot(x, '-')"
      ],
      "execution_count": 0,
      "outputs": []
    },
    {
      "cell_type": "code",
      "metadata": {
        "id": "QGDhwoYF1DPW",
        "colab_type": "code",
        "colab": {}
      },
      "source": [
        "p=5\n",
        "\n",
        "# Prepare the data\n",
        "x_train, x_test, y_train, y_test = get_time_windows(sequence=x, window_size=p, train_size=0.7)\n",
        "\n",
        "# Train a model\n",
        "model = get_model(p)\n",
        "model.fit(x_train, y_train, epochs=100)"
      ],
      "execution_count": 0,
      "outputs": []
    },
    {
      "cell_type": "code",
      "metadata": {
        "id": "zYw2incy92Hg",
        "colab_type": "code",
        "colab": {}
      },
      "source": [
        "# one-step prediction\n",
        "y_pred = model.predict(x_test)\n",
        "\n",
        "# recursive prediction\n",
        "n_last = 150\n",
        "y_new = predict_rec(n=n_last, model=model, x_init=x_test[-n_last-1])\n",
        "\n",
        "plt.figure(figsize=(12, 5))\n",
        "plt.plot(np.arange(y_test.shape[0]), y_test, '-', label=\"ground truth\")\n",
        "plt.plot(np.arange(y_test.shape[0]), y_pred, '-', label=\"predicted\")\n",
        "plt.plot(np.arange(y_test.shape[0]-n_last, y_test.shape[0]), y_new, '.', label=\"new\")\n",
        "plt.legend()"
      ],
      "execution_count": 0,
      "outputs": []
    },
    {
      "cell_type": "code",
      "metadata": {
        "id": "5Hv-gfc-C6iv",
        "colab_type": "code",
        "colab": {}
      },
      "source": [
        ""
      ],
      "execution_count": 0,
      "outputs": []
    }
  ]
}